{
 "cells": [
  {
   "cell_type": "markdown",
   "id": "3dd8b906",
   "metadata": {},
   "source": [
    "* Project Title\n",
    "# To predict future risk of Coronary Heart Disease (CHD)\n",
    "# using Logistic Regression Algorithm\n",
    "\n",
    "    (2019-20)\n",
    "\n",
    "### K.R.T. Arts, B.H. Commerce and A.M. Science College, Nashik. (K.T.H.M. College, Nashik)\n",
    "#### Name : Shubham Ravindra Shirsath"
   ]
  },
  {
   "cell_type": "markdown",
   "id": "a6d9fb72",
   "metadata": {},
   "source": [
    "## Objective\n",
    "* Predict wheather a person will get affected or not in next 5 years due to C.H.D. (Coronary Heart Disease)\n",
    "* 0 : Not affected\n",
    "* 1 : Affected"
   ]
  },
  {
   "cell_type": "markdown",
   "id": "a12ac010",
   "metadata": {},
   "source": [
    "## Important Packages :"
   ]
  },
  {
   "cell_type": "code",
   "execution_count": 43,
   "id": "a9fa5d44",
   "metadata": {},
   "outputs": [],
   "source": [
    "import pandas as pd\n",
    "import numpy as np\n",
    "\n",
    "################ Machine Learning #######################\n",
    "from sklearn import preprocessing\n",
    "from sklearn.linear_model import LogisticRegression\n",
    "from sklearn.model_selection import train_test_split\n",
    "\n",
    "\n",
    "################ Data visualization #######################\n",
    "import matplotlib.pyplot as plt \n",
    "import seaborn as sns\n",
    "import plotly"
   ]
  },
  {
   "cell_type": "markdown",
   "id": "0f2cb1ad",
   "metadata": {},
   "source": [
    "## Data Importing"
   ]
  },
  {
   "cell_type": "code",
   "execution_count": 44,
   "id": "81a6843e",
   "metadata": {},
   "outputs": [
    {
     "data": {
      "text/html": [
       "<div>\n",
       "<style scoped>\n",
       "    .dataframe tbody tr th:only-of-type {\n",
       "        vertical-align: middle;\n",
       "    }\n",
       "\n",
       "    .dataframe tbody tr th {\n",
       "        vertical-align: top;\n",
       "    }\n",
       "\n",
       "    .dataframe thead th {\n",
       "        text-align: right;\n",
       "    }\n",
       "</style>\n",
       "<table border=\"1\" class=\"dataframe\">\n",
       "  <thead>\n",
       "    <tr style=\"text-align: right;\">\n",
       "      <th></th>\n",
       "      <th>Gender</th>\n",
       "      <th>Age</th>\n",
       "      <th>Education</th>\n",
       "      <th>Current_Smoker</th>\n",
       "      <th>Cigs_Per_Day</th>\n",
       "      <th>BP_Meds</th>\n",
       "      <th>Pre_Stroke</th>\n",
       "      <th>Pre_Hyp</th>\n",
       "      <th>Diabetes</th>\n",
       "      <th>Cholesterol</th>\n",
       "      <th>Systolic_BP</th>\n",
       "      <th>Diastolic_BP</th>\n",
       "      <th>BMI</th>\n",
       "      <th>Heart_Rate</th>\n",
       "      <th>Five_Year_Risk_CHD</th>\n",
       "    </tr>\n",
       "  </thead>\n",
       "  <tbody>\n",
       "    <tr>\n",
       "      <th>0</th>\n",
       "      <td>1</td>\n",
       "      <td>39</td>\n",
       "      <td>4.0</td>\n",
       "      <td>0</td>\n",
       "      <td>0.0</td>\n",
       "      <td>0.0</td>\n",
       "      <td>0</td>\n",
       "      <td>0</td>\n",
       "      <td>0</td>\n",
       "      <td>195.0</td>\n",
       "      <td>106.0</td>\n",
       "      <td>70.0</td>\n",
       "      <td>26.97</td>\n",
       "      <td>80.0</td>\n",
       "      <td>0</td>\n",
       "    </tr>\n",
       "    <tr>\n",
       "      <th>1</th>\n",
       "      <td>0</td>\n",
       "      <td>46</td>\n",
       "      <td>2.0</td>\n",
       "      <td>0</td>\n",
       "      <td>0.0</td>\n",
       "      <td>0.0</td>\n",
       "      <td>0</td>\n",
       "      <td>0</td>\n",
       "      <td>0</td>\n",
       "      <td>250.0</td>\n",
       "      <td>121.0</td>\n",
       "      <td>81.0</td>\n",
       "      <td>28.73</td>\n",
       "      <td>95.0</td>\n",
       "      <td>0</td>\n",
       "    </tr>\n",
       "    <tr>\n",
       "      <th>2</th>\n",
       "      <td>1</td>\n",
       "      <td>48</td>\n",
       "      <td>1.0</td>\n",
       "      <td>1</td>\n",
       "      <td>20.0</td>\n",
       "      <td>0.0</td>\n",
       "      <td>0</td>\n",
       "      <td>0</td>\n",
       "      <td>0</td>\n",
       "      <td>245.0</td>\n",
       "      <td>127.5</td>\n",
       "      <td>80.0</td>\n",
       "      <td>25.34</td>\n",
       "      <td>75.0</td>\n",
       "      <td>0</td>\n",
       "    </tr>\n",
       "    <tr>\n",
       "      <th>3</th>\n",
       "      <td>0</td>\n",
       "      <td>61</td>\n",
       "      <td>3.0</td>\n",
       "      <td>1</td>\n",
       "      <td>30.0</td>\n",
       "      <td>0.0</td>\n",
       "      <td>0</td>\n",
       "      <td>1</td>\n",
       "      <td>0</td>\n",
       "      <td>225.0</td>\n",
       "      <td>150.0</td>\n",
       "      <td>95.0</td>\n",
       "      <td>28.58</td>\n",
       "      <td>65.0</td>\n",
       "      <td>1</td>\n",
       "    </tr>\n",
       "    <tr>\n",
       "      <th>4</th>\n",
       "      <td>0</td>\n",
       "      <td>46</td>\n",
       "      <td>3.0</td>\n",
       "      <td>1</td>\n",
       "      <td>23.0</td>\n",
       "      <td>0.0</td>\n",
       "      <td>0</td>\n",
       "      <td>0</td>\n",
       "      <td>0</td>\n",
       "      <td>285.0</td>\n",
       "      <td>130.0</td>\n",
       "      <td>84.0</td>\n",
       "      <td>23.10</td>\n",
       "      <td>85.0</td>\n",
       "      <td>0</td>\n",
       "    </tr>\n",
       "    <tr>\n",
       "      <th>...</th>\n",
       "      <td>...</td>\n",
       "      <td>...</td>\n",
       "      <td>...</td>\n",
       "      <td>...</td>\n",
       "      <td>...</td>\n",
       "      <td>...</td>\n",
       "      <td>...</td>\n",
       "      <td>...</td>\n",
       "      <td>...</td>\n",
       "      <td>...</td>\n",
       "      <td>...</td>\n",
       "      <td>...</td>\n",
       "      <td>...</td>\n",
       "      <td>...</td>\n",
       "      <td>...</td>\n",
       "    </tr>\n",
       "    <tr>\n",
       "      <th>4233</th>\n",
       "      <td>1</td>\n",
       "      <td>50</td>\n",
       "      <td>1.0</td>\n",
       "      <td>1</td>\n",
       "      <td>1.0</td>\n",
       "      <td>0.0</td>\n",
       "      <td>0</td>\n",
       "      <td>1</td>\n",
       "      <td>0</td>\n",
       "      <td>313.0</td>\n",
       "      <td>179.0</td>\n",
       "      <td>92.0</td>\n",
       "      <td>25.97</td>\n",
       "      <td>66.0</td>\n",
       "      <td>1</td>\n",
       "    </tr>\n",
       "    <tr>\n",
       "      <th>4234</th>\n",
       "      <td>1</td>\n",
       "      <td>51</td>\n",
       "      <td>3.0</td>\n",
       "      <td>1</td>\n",
       "      <td>43.0</td>\n",
       "      <td>0.0</td>\n",
       "      <td>0</td>\n",
       "      <td>0</td>\n",
       "      <td>0</td>\n",
       "      <td>207.0</td>\n",
       "      <td>126.5</td>\n",
       "      <td>80.0</td>\n",
       "      <td>19.71</td>\n",
       "      <td>65.0</td>\n",
       "      <td>0</td>\n",
       "    </tr>\n",
       "    <tr>\n",
       "      <th>4235</th>\n",
       "      <td>0</td>\n",
       "      <td>48</td>\n",
       "      <td>2.0</td>\n",
       "      <td>1</td>\n",
       "      <td>20.0</td>\n",
       "      <td>NaN</td>\n",
       "      <td>0</td>\n",
       "      <td>0</td>\n",
       "      <td>0</td>\n",
       "      <td>248.0</td>\n",
       "      <td>131.0</td>\n",
       "      <td>72.0</td>\n",
       "      <td>22.00</td>\n",
       "      <td>84.0</td>\n",
       "      <td>0</td>\n",
       "    </tr>\n",
       "    <tr>\n",
       "      <th>4236</th>\n",
       "      <td>0</td>\n",
       "      <td>44</td>\n",
       "      <td>1.0</td>\n",
       "      <td>1</td>\n",
       "      <td>15.0</td>\n",
       "      <td>0.0</td>\n",
       "      <td>0</td>\n",
       "      <td>0</td>\n",
       "      <td>0</td>\n",
       "      <td>210.0</td>\n",
       "      <td>126.5</td>\n",
       "      <td>87.0</td>\n",
       "      <td>19.16</td>\n",
       "      <td>86.0</td>\n",
       "      <td>0</td>\n",
       "    </tr>\n",
       "    <tr>\n",
       "      <th>4237</th>\n",
       "      <td>0</td>\n",
       "      <td>52</td>\n",
       "      <td>2.0</td>\n",
       "      <td>0</td>\n",
       "      <td>0.0</td>\n",
       "      <td>0.0</td>\n",
       "      <td>0</td>\n",
       "      <td>0</td>\n",
       "      <td>0</td>\n",
       "      <td>269.0</td>\n",
       "      <td>133.5</td>\n",
       "      <td>83.0</td>\n",
       "      <td>21.47</td>\n",
       "      <td>80.0</td>\n",
       "      <td>0</td>\n",
       "    </tr>\n",
       "  </tbody>\n",
       "</table>\n",
       "<p>4238 rows × 15 columns</p>\n",
       "</div>"
      ],
      "text/plain": [
       "      Gender  Age  Education  Current_Smoker  Cigs_Per_Day  BP_Meds  \\\n",
       "0          1   39        4.0               0           0.0      0.0   \n",
       "1          0   46        2.0               0           0.0      0.0   \n",
       "2          1   48        1.0               1          20.0      0.0   \n",
       "3          0   61        3.0               1          30.0      0.0   \n",
       "4          0   46        3.0               1          23.0      0.0   \n",
       "...      ...  ...        ...             ...           ...      ...   \n",
       "4233       1   50        1.0               1           1.0      0.0   \n",
       "4234       1   51        3.0               1          43.0      0.0   \n",
       "4235       0   48        2.0               1          20.0      NaN   \n",
       "4236       0   44        1.0               1          15.0      0.0   \n",
       "4237       0   52        2.0               0           0.0      0.0   \n",
       "\n",
       "      Pre_Stroke  Pre_Hyp  Diabetes  Cholesterol  Systolic_BP  Diastolic_BP  \\\n",
       "0              0        0         0        195.0        106.0          70.0   \n",
       "1              0        0         0        250.0        121.0          81.0   \n",
       "2              0        0         0        245.0        127.5          80.0   \n",
       "3              0        1         0        225.0        150.0          95.0   \n",
       "4              0        0         0        285.0        130.0          84.0   \n",
       "...          ...      ...       ...          ...          ...           ...   \n",
       "4233           0        1         0        313.0        179.0          92.0   \n",
       "4234           0        0         0        207.0        126.5          80.0   \n",
       "4235           0        0         0        248.0        131.0          72.0   \n",
       "4236           0        0         0        210.0        126.5          87.0   \n",
       "4237           0        0         0        269.0        133.5          83.0   \n",
       "\n",
       "        BMI  Heart_Rate  Five_Year_Risk_CHD  \n",
       "0     26.97        80.0                   0  \n",
       "1     28.73        95.0                   0  \n",
       "2     25.34        75.0                   0  \n",
       "3     28.58        65.0                   1  \n",
       "4     23.10        85.0                   0  \n",
       "...     ...         ...                 ...  \n",
       "4233  25.97        66.0                   1  \n",
       "4234  19.71        65.0                   0  \n",
       "4235  22.00        84.0                   0  \n",
       "4236  19.16        86.0                   0  \n",
       "4237  21.47        80.0                   0  \n",
       "\n",
       "[4238 rows x 15 columns]"
      ]
     },
     "execution_count": 44,
     "metadata": {},
     "output_type": "execute_result"
    }
   ],
   "source": [
    "data = pd.read_csv(r'Disease.csv')\n",
    "data"
   ]
  },
  {
   "cell_type": "markdown",
   "id": "62c16bec",
   "metadata": {},
   "source": [
    "##  Data Pre-Processing \n",
    "\n",
    "#### 1. Data Type "
   ]
  },
  {
   "cell_type": "code",
   "execution_count": 45,
   "id": "9755d4f7",
   "metadata": {},
   "outputs": [
    {
     "name": "stdout",
     "output_type": "stream",
     "text": [
      "<class 'pandas.core.frame.DataFrame'>\n",
      "RangeIndex: 4238 entries, 0 to 4237\n",
      "Data columns (total 15 columns):\n",
      " #   Column              Non-Null Count  Dtype  \n",
      "---  ------              --------------  -----  \n",
      " 0   Gender              4238 non-null   int64  \n",
      " 1   Age                 4238 non-null   int64  \n",
      " 2   Education           4133 non-null   float64\n",
      " 3   Current_Smoker      4238 non-null   int64  \n",
      " 4   Cigs_Per_Day        4209 non-null   float64\n",
      " 5   BP_Meds             4185 non-null   float64\n",
      " 6   Pre_Stroke          4238 non-null   int64  \n",
      " 7   Pre_Hyp             4238 non-null   int64  \n",
      " 8   Diabetes            4238 non-null   int64  \n",
      " 9   Cholesterol         4188 non-null   float64\n",
      " 10  Systolic_BP         4238 non-null   float64\n",
      " 11  Diastolic_BP        4238 non-null   float64\n",
      " 12  BMI                 4219 non-null   float64\n",
      " 13  Heart_Rate          4237 non-null   float64\n",
      " 14  Five_Year_Risk_CHD  4238 non-null   int64  \n",
      "dtypes: float64(8), int64(7)\n",
      "memory usage: 496.8 KB\n"
     ]
    }
   ],
   "source": [
    "data.info()"
   ]
  },
  {
   "cell_type": "markdown",
   "id": "e243c798",
   "metadata": {},
   "source": [
    "#### 2. Identifying & Treatment the Missing Values"
   ]
  },
  {
   "cell_type": "code",
   "execution_count": 46,
   "id": "f11d55f5",
   "metadata": {},
   "outputs": [
    {
     "data": {
      "text/plain": [
       "Gender                  0\n",
       "Age                     0\n",
       "Education             105\n",
       "Current_Smoker          0\n",
       "Cigs_Per_Day           29\n",
       "BP_Meds                53\n",
       "Pre_Stroke              0\n",
       "Pre_Hyp                 0\n",
       "Diabetes                0\n",
       "Cholesterol            50\n",
       "Systolic_BP             0\n",
       "Diastolic_BP            0\n",
       "BMI                    19\n",
       "Heart_Rate              1\n",
       "Five_Year_Risk_CHD      0\n",
       "dtype: int64"
      ]
     },
     "execution_count": 46,
     "metadata": {},
     "output_type": "execute_result"
    }
   ],
   "source": [
    "data.isna().sum()"
   ]
  },
  {
   "cell_type": "code",
   "execution_count": 47,
   "id": "96449bcc",
   "metadata": {},
   "outputs": [],
   "source": [
    "for i in ['Education','BP_Meds']:\n",
    "    data[i].fillna(data[i].mode()[0],inplace=True)"
   ]
  },
  {
   "cell_type": "code",
   "execution_count": 48,
   "id": "c1c8bb78",
   "metadata": {},
   "outputs": [
    {
     "data": {
      "text/plain": [
       "Gender                 0\n",
       "Age                    0\n",
       "Education              0\n",
       "Current_Smoker         0\n",
       "Cigs_Per_Day          29\n",
       "BP_Meds                0\n",
       "Pre_Stroke             0\n",
       "Pre_Hyp                0\n",
       "Diabetes               0\n",
       "Cholesterol           50\n",
       "Systolic_BP            0\n",
       "Diastolic_BP           0\n",
       "BMI                   19\n",
       "Heart_Rate             1\n",
       "Five_Year_Risk_CHD     0\n",
       "dtype: int64"
      ]
     },
     "execution_count": 48,
     "metadata": {},
     "output_type": "execute_result"
    }
   ],
   "source": [
    "data.isnull().sum()"
   ]
  },
  {
   "cell_type": "code",
   "execution_count": 49,
   "id": "77574d4c",
   "metadata": {},
   "outputs": [],
   "source": [
    "for i in ['Cigs_Per_Day','Cholesterol','BMI','Heart_Rate']:\n",
    "    data[i].fillna(data[i].mean(),inplace=True)"
   ]
  },
  {
   "cell_type": "code",
   "execution_count": 50,
   "id": "eed8526f",
   "metadata": {},
   "outputs": [
    {
     "data": {
      "text/plain": [
       "Gender                0\n",
       "Age                   0\n",
       "Education             0\n",
       "Current_Smoker        0\n",
       "Cigs_Per_Day          0\n",
       "BP_Meds               0\n",
       "Pre_Stroke            0\n",
       "Pre_Hyp               0\n",
       "Diabetes              0\n",
       "Cholesterol           0\n",
       "Systolic_BP           0\n",
       "Diastolic_BP          0\n",
       "BMI                   0\n",
       "Heart_Rate            0\n",
       "Five_Year_Risk_CHD    0\n",
       "dtype: int64"
      ]
     },
     "execution_count": 50,
     "metadata": {},
     "output_type": "execute_result"
    }
   ],
   "source": [
    "data.isnull().sum()"
   ]
  },
  {
   "cell_type": "markdown",
   "id": "aa33b8be",
   "metadata": {},
   "source": [
    "#### 3. Identifying & Treatment the Outliers\n",
    "* Here we find outliers for numerical variables not categorical variables.\n",
    "* So the numerical variables are : \n",
    "* [ Age, Cigs_Per_Day, Cholesterol, Systolic_BP, Diastolic_BP, BMI, Heart_Rate ]\n",
    "* Now we check one by one."
   ]
  },
  {
   "cell_type": "code",
   "execution_count": 51,
   "id": "ecab3117",
   "metadata": {
    "scrolled": true
   },
   "outputs": [
    {
     "data": {
      "text/plain": [
       "<AxesSubplot:ylabel='Age'>"
      ]
     },
     "execution_count": 51,
     "metadata": {},
     "output_type": "execute_result"
    },
    {
     "data": {
      "image/png": "[encoded data removed]",
      "text/plain": [
       "<Figure size 432x288 with 1 Axes>"
      ]
     },
     "metadata": {
      "needs_background": "light"
     },
     "output_type": "display_data"
    }
   ],
   "source": [
    "sns.boxplot(y ='Age',data = data)"
   ]
  },
  {
   "cell_type": "code",
   "execution_count": 52,
   "id": "91eba526",
   "metadata": {},
   "outputs": [
    {
     "data": {
      "text/plain": [
       "<AxesSubplot:ylabel='Cigs_Per_Day'>"
      ]
     },
     "execution_count": 52,
     "metadata": {},
     "output_type": "execute_result"
    },
    {
     "data": {
      "image/png": "[encoded data removed]",
      "text/plain": [
       "<Figure size 432x288 with 1 Axes>"
      ]
     },
     "metadata": {
      "needs_background": "light"
     },
     "output_type": "display_data"
    }
   ],
   "source": [
    "sns.boxplot(y ='Cigs_Per_Day',data = data)"
   ]
  },
  {
   "cell_type": "code",
   "execution_count": 53,
   "id": "667be676",
   "metadata": {},
   "outputs": [
    {
     "data": {
      "text/plain": [
       "<AxesSubplot:ylabel='Cholesterol'>"
      ]
     },
     "execution_count": 53,
     "metadata": {},
     "output_type": "execute_result"
    },
    {
     "data": {
      "image/png": "[encoded data removed]",
      "text/plain": [
       "<Figure size 432x288 with 1 Axes>"
      ]
     },
     "metadata": {
      "needs_background": "light"
     },
     "output_type": "display_data"
    }
   ],
   "source": [
    "sns.boxplot(y ='Cholesterol',data = data)"
   ]
  },
  {
   "cell_type": "code",
   "execution_count": 54,
   "id": "0b11ac6d",
   "metadata": {},
   "outputs": [
    {
     "data": {
      "text/plain": [
       "<AxesSubplot:ylabel='Systolic_BP'>"
      ]
     },
     "execution_count": 54,
     "metadata": {},
     "output_type": "execute_result"
    },
    {
     "data": {
      "image/png": "[encoded data removed]",
      "text/plain": [
       "<Figure size 432x288 with 1 Axes>"
      ]
     },
     "metadata": {
      "needs_background": "light"
     },
     "output_type": "display_data"
    }
   ],
   "source": [
    "sns.boxplot(y ='Systolic_BP',data = data)"
   ]
  },
  {
   "cell_type": "code",
   "execution_count": 55,
   "id": "46422c71",
   "metadata": {},
   "outputs": [
    {
     "data": {
      "text/plain": [
       "<AxesSubplot:ylabel='Diastolic_BP'>"
      ]
     },
     "execution_count": 55,
     "metadata": {},
     "output_type": "execute_result"
    },
    {
     "data": {
      "image/png": "[encoded data removed]",
      "text/plain": [
       "<Figure size 432x288 with 1 Axes>"
      ]
     },
     "metadata": {
      "needs_background": "light"
     },
     "output_type": "display_data"
    }
   ],
   "source": [
    "sns.boxplot(y ='Diastolic_BP',data = data)"
   ]
  },
  {
   "cell_type": "code",
   "execution_count": 56,
   "id": "f8e95aa4",
   "metadata": {},
   "outputs": [
    {
     "data": {
      "text/plain": [
       "<AxesSubplot:ylabel='BMI'>"
      ]
     },
     "execution_count": 56,
     "metadata": {},
     "output_type": "execute_result"
    },
    {
     "data": {
      "image/png": "[encoded data removed]",
      "text/plain": [
       "<Figure size 432x288 with 1 Axes>"
      ]
     },
     "metadata": {
      "needs_background": "light"
     },
     "output_type": "display_data"
    }
   ],
   "source": [
    "sns.boxplot(y ='BMI',data = data)"
   ]
  },
  {
   "cell_type": "code",
   "execution_count": 57,
   "id": "2b29bc14",
   "metadata": {},
   "outputs": [
    {
     "data": {
      "text/plain": [
       "<AxesSubplot:ylabel='Heart_Rate'>"
      ]
     },
     "execution_count": 57,
     "metadata": {},
     "output_type": "execute_result"
    },
    {
     "data": {
      "image/png": "[encoded data removed]",
      "text/plain": [
       "<Figure size 432x288 with 1 Axes>"
      ]
     },
     "metadata": {
      "needs_background": "light"
     },
     "output_type": "display_data"
    }
   ],
   "source": [
    "sns.boxplot(y ='Heart_Rate',data = data)"
   ]
  },
  {
   "cell_type": "markdown",
   "id": "beeca134",
   "metadata": {},
   "source": [
    "* From above boxplots we can say that,\n",
    " there is outliers in [ Cigs_Per_Day, Cholesterol, Systolic_BP, Diastolic_BP, BMI, Heart_Rate ] variables.\n",
    "* Below we treat those outliers using Upper Limit and Lower Limit."
   ]
  },
  {
   "cell_type": "code",
   "execution_count": 58,
   "id": "a550b77c",
   "metadata": {},
   "outputs": [],
   "source": [
    "col = ['Cigs_Per_Day','Cholesterol','Systolic_BP','Diastolic_BP','BMI','Heart_Rate']\n",
    "\n",
    "for i in col:\n",
    "    q1 = data[i].quantile(0.25)\n",
    "    q3 = data[i].quantile(0.75)\n",
    "    iqr = q3-q1\n",
    "    ul = q3 + 1.5*iqr\n",
    "    ll = q1 - 1.5*iqr\n",
    "    data[i].clip(upper=ul,lower=ll,inplace=True)"
   ]
  },
  {
   "cell_type": "markdown",
   "id": "7b28b18c",
   "metadata": {},
   "source": [
    "* Now we check, outliers are present or not in numerical variables."
   ]
  },
  {
   "cell_type": "code",
   "execution_count": 59,
   "id": "b065cd3f",
   "metadata": {
    "scrolled": true
   },
   "outputs": [
    {
     "data": {
      "text/plain": [
       "<AxesSubplot:>"
      ]
     },
     "execution_count": 59,
     "metadata": {},
     "output_type": "execute_result"
    },
    {
     "data": {
      "image/png": "[encoded data removed]",
      "text/plain": [
       "<Figure size 432x288 with 1 Axes>"
      ]
     },
     "metadata": {
      "needs_background": "light"
     },
     "output_type": "display_data"
    }
   ],
   "source": [
    "sns.boxplot(data=data[col])"
   ]
  },
  {
   "cell_type": "markdown",
   "id": "6d164630",
   "metadata": {},
   "source": [
    "* From above boxplots we can say that, we treated all ouliers correctly."
   ]
  },
  {
   "cell_type": "markdown",
   "id": "1fa12006",
   "metadata": {},
   "source": [
    "### Now we assign our data into 'x' and 'y'.\n",
    "* x is our Independent Variable. ( Except 'Five_Year_Risk_CHD', all is our independent variables.)\n",
    "* y is our Dependent Variable. ( 'Five_Year_Risk_CHD' is our dependent variable.)"
   ]
  },
  {
   "cell_type": "code",
   "execution_count": 60,
   "id": "9bf822d2",
   "metadata": {},
   "outputs": [],
   "source": [
    "x = data.drop('Five_Year_Risk_CHD', axis = 1)\n",
    "y = data[['Five_Year_Risk_CHD']]"
   ]
  },
  {
   "cell_type": "markdown",
   "id": "30658dd3",
   "metadata": {},
   "source": [
    "### Splitting the data in Training and Test set\n",
    "* Using sklearn we split 70% of our data into training set and rest in test set.\n",
    "* Setting random_state will give the same training and test set everytime on running the code"
   ]
  },
  {
   "cell_type": "code",
   "execution_count": 61,
   "id": "42aef26e",
   "metadata": {},
   "outputs": [],
   "source": [
    "from sklearn.model_selection import train_test_split\n",
    "\n",
    "x_train, x_test, y_train, y_test = train_test_split(x, y, test_size=0.20, random_state=100)"
   ]
  },
  {
   "cell_type": "markdown",
   "id": "0ee7187b",
   "metadata": {},
   "source": [
    "### Now we perform Logistic Regression Algorithm on train dataset."
   ]
  },
  {
   "cell_type": "code",
   "execution_count": 64,
   "id": "2b155d5e",
   "metadata": {},
   "outputs": [
    {
     "name": "stderr",
     "output_type": "stream",
     "text": [
      "C:\\Users\\Shalaka R Shirsath\\anaconda3\\lib\\site-packages\\sklearn\\utils\\validation.py:63: DataConversionWarning: A column-vector y was passed when a 1d array was expected. Please change the shape of y to (n_samples, ), for example using ravel().\n",
      "  return f(*args, **kwargs)\n",
      "C:\\Users\\Shalaka R Shirsath\\anaconda3\\lib\\site-packages\\sklearn\\linear_model\\_logistic.py:763: ConvergenceWarning: lbfgs failed to converge (status=1):\n",
      "STOP: TOTAL NO. of ITERATIONS REACHED LIMIT.\n",
      "\n",
      "Increase the number of iterations (max_iter) or scale the data as shown in:\n",
      "    https://scikit-learn.org/stable/modules/preprocessing.html\n",
      "Please also refer to the documentation for alternative solver options:\n",
      "    https://scikit-learn.org/stable/modules/linear_model.html#logistic-regression\n",
      "  n_iter_i = _check_optimize_result(\n"
     ]
    }
   ],
   "source": [
    "from sklearn.linear_model import LogisticRegression\n",
    "\n",
    "log_reg = LogisticRegression()\n",
    "output = log_reg.fit(x_train, y_train)"
   ]
  },
  {
   "cell_type": "markdown",
   "id": "6ba9ba72",
   "metadata": {},
   "source": [
    "### We build the model successfully."
   ]
  },
  {
   "cell_type": "markdown",
   "id": "8ce07849",
   "metadata": {},
   "source": [
    "* Now we find Beta_0 & Beta_1,Beta_2,Beta_3 and so on."
   ]
  },
  {
   "cell_type": "code",
   "execution_count": 65,
   "id": "e12cfabd",
   "metadata": {},
   "outputs": [
    {
     "data": {
      "text/plain": [
       "array([-0.43139535])"
      ]
     },
     "execution_count": 65,
     "metadata": {},
     "output_type": "execute_result"
    }
   ],
   "source": [
    "output.intercept_"
   ]
  },
  {
   "cell_type": "code",
   "execution_count": 66,
   "id": "53466a24",
   "metadata": {},
   "outputs": [
    {
     "data": {
      "text/plain": [
       "array([[ 0.39733896,  0.03649062, -0.14163869, -0.20822377,  0.0179821 ,\n",
       "         0.24017225,  0.07838221,  1.04415586,  0.31936435, -0.00119058,\n",
       "         0.00768789, -0.02092814, -0.04513976, -0.01827306]])"
      ]
     },
     "execution_count": 66,
     "metadata": {},
     "output_type": "execute_result"
    }
   ],
   "source": [
    "output.coef_"
   ]
  },
  {
   "cell_type": "markdown",
   "id": "ee746fbe",
   "metadata": {},
   "source": [
    "### Now we check our model performence on train dataset."
   ]
  },
  {
   "cell_type": "code",
   "execution_count": 67,
   "id": "71544592",
   "metadata": {
    "scrolled": true
   },
   "outputs": [
    {
     "data": {
      "text/html": [
       "<div>\n",
       "<style scoped>\n",
       "    .dataframe tbody tr th:only-of-type {\n",
       "        vertical-align: middle;\n",
       "    }\n",
       "\n",
       "    .dataframe tbody tr th {\n",
       "        vertical-align: top;\n",
       "    }\n",
       "\n",
       "    .dataframe thead th {\n",
       "        text-align: right;\n",
       "    }\n",
       "</style>\n",
       "<table border=\"1\" class=\"dataframe\">\n",
       "  <thead>\n",
       "    <tr style=\"text-align: right;\">\n",
       "      <th></th>\n",
       "      <th>Gender</th>\n",
       "      <th>Age</th>\n",
       "      <th>Education</th>\n",
       "      <th>Current_Smoker</th>\n",
       "      <th>Cigs_Per_Day</th>\n",
       "      <th>BP_Meds</th>\n",
       "      <th>Pre_Stroke</th>\n",
       "      <th>Pre_Hyp</th>\n",
       "      <th>Diabetes</th>\n",
       "      <th>Cholesterol</th>\n",
       "      <th>Systolic_BP</th>\n",
       "      <th>Diastolic_BP</th>\n",
       "      <th>BMI</th>\n",
       "      <th>Heart_Rate</th>\n",
       "      <th>Five_Year_Risk_CHD</th>\n",
       "    </tr>\n",
       "  </thead>\n",
       "  <tbody>\n",
       "    <tr>\n",
       "      <th>2404</th>\n",
       "      <td>1</td>\n",
       "      <td>51</td>\n",
       "      <td>1.0</td>\n",
       "      <td>1</td>\n",
       "      <td>15.0</td>\n",
       "      <td>0.0</td>\n",
       "      <td>0</td>\n",
       "      <td>0</td>\n",
       "      <td>0</td>\n",
       "      <td>220.0</td>\n",
       "      <td>125.0</td>\n",
       "      <td>82.0</td>\n",
       "      <td>24.10</td>\n",
       "      <td>60.0</td>\n",
       "      <td>1</td>\n",
       "    </tr>\n",
       "    <tr>\n",
       "      <th>3800</th>\n",
       "      <td>0</td>\n",
       "      <td>48</td>\n",
       "      <td>1.0</td>\n",
       "      <td>0</td>\n",
       "      <td>0.0</td>\n",
       "      <td>0.0</td>\n",
       "      <td>0</td>\n",
       "      <td>0</td>\n",
       "      <td>0</td>\n",
       "      <td>274.0</td>\n",
       "      <td>110.0</td>\n",
       "      <td>84.0</td>\n",
       "      <td>22.51</td>\n",
       "      <td>105.5</td>\n",
       "      <td>0</td>\n",
       "    </tr>\n",
       "    <tr>\n",
       "      <th>2619</th>\n",
       "      <td>0</td>\n",
       "      <td>38</td>\n",
       "      <td>2.0</td>\n",
       "      <td>1</td>\n",
       "      <td>20.0</td>\n",
       "      <td>0.0</td>\n",
       "      <td>0</td>\n",
       "      <td>0</td>\n",
       "      <td>0</td>\n",
       "      <td>195.0</td>\n",
       "      <td>116.0</td>\n",
       "      <td>72.0</td>\n",
       "      <td>24.45</td>\n",
       "      <td>75.0</td>\n",
       "      <td>0</td>\n",
       "    </tr>\n",
       "    <tr>\n",
       "      <th>2661</th>\n",
       "      <td>0</td>\n",
       "      <td>65</td>\n",
       "      <td>3.0</td>\n",
       "      <td>0</td>\n",
       "      <td>0.0</td>\n",
       "      <td>0.0</td>\n",
       "      <td>0</td>\n",
       "      <td>0</td>\n",
       "      <td>0</td>\n",
       "      <td>344.0</td>\n",
       "      <td>120.0</td>\n",
       "      <td>75.0</td>\n",
       "      <td>25.41</td>\n",
       "      <td>87.0</td>\n",
       "      <td>0</td>\n",
       "    </tr>\n",
       "    <tr>\n",
       "      <th>1920</th>\n",
       "      <td>1</td>\n",
       "      <td>51</td>\n",
       "      <td>1.0</td>\n",
       "      <td>1</td>\n",
       "      <td>20.0</td>\n",
       "      <td>0.0</td>\n",
       "      <td>0</td>\n",
       "      <td>0</td>\n",
       "      <td>0</td>\n",
       "      <td>256.0</td>\n",
       "      <td>130.0</td>\n",
       "      <td>75.0</td>\n",
       "      <td>28.76</td>\n",
       "      <td>60.0</td>\n",
       "      <td>0</td>\n",
       "    </tr>\n",
       "  </tbody>\n",
       "</table>\n",
       "</div>"
      ],
      "text/plain": [
       "      Gender  Age  Education  Current_Smoker  Cigs_Per_Day  BP_Meds  \\\n",
       "2404       1   51        1.0               1          15.0      0.0   \n",
       "3800       0   48        1.0               0           0.0      0.0   \n",
       "2619       0   38        2.0               1          20.0      0.0   \n",
       "2661       0   65        3.0               0           0.0      0.0   \n",
       "1920       1   51        1.0               1          20.0      0.0   \n",
       "\n",
       "      Pre_Stroke  Pre_Hyp  Diabetes  Cholesterol  Systolic_BP  Diastolic_BP  \\\n",
       "2404           0        0         0        220.0        125.0          82.0   \n",
       "3800           0        0         0        274.0        110.0          84.0   \n",
       "2619           0        0         0        195.0        116.0          72.0   \n",
       "2661           0        0         0        344.0        120.0          75.0   \n",
       "1920           0        0         0        256.0        130.0          75.0   \n",
       "\n",
       "        BMI  Heart_Rate  Five_Year_Risk_CHD  \n",
       "2404  24.10        60.0                   1  \n",
       "3800  22.51       105.5                   0  \n",
       "2619  24.45        75.0                   0  \n",
       "2661  25.41        87.0                   0  \n",
       "1920  28.76        60.0                   0  "
      ]
     },
     "execution_count": 67,
     "metadata": {},
     "output_type": "execute_result"
    }
   ],
   "source": [
    "train = pd.concat([x_train,y_train],axis=1)\n",
    "train.head()"
   ]
  },
  {
   "cell_type": "code",
   "execution_count": 68,
   "id": "d4020c60",
   "metadata": {},
   "outputs": [
    {
     "data": {
      "text/html": [
       "<div>\n",
       "<style scoped>\n",
       "    .dataframe tbody tr th:only-of-type {\n",
       "        vertical-align: middle;\n",
       "    }\n",
       "\n",
       "    .dataframe tbody tr th {\n",
       "        vertical-align: top;\n",
       "    }\n",
       "\n",
       "    .dataframe thead th {\n",
       "        text-align: right;\n",
       "    }\n",
       "</style>\n",
       "<table border=\"1\" class=\"dataframe\">\n",
       "  <thead>\n",
       "    <tr style=\"text-align: right;\">\n",
       "      <th></th>\n",
       "      <th>Gender</th>\n",
       "      <th>Age</th>\n",
       "      <th>Education</th>\n",
       "      <th>Current_Smoker</th>\n",
       "      <th>Cigs_Per_Day</th>\n",
       "      <th>BP_Meds</th>\n",
       "      <th>Pre_Stroke</th>\n",
       "      <th>Pre_Hyp</th>\n",
       "      <th>Diabetes</th>\n",
       "      <th>Cholesterol</th>\n",
       "      <th>Systolic_BP</th>\n",
       "      <th>Diastolic_BP</th>\n",
       "      <th>BMI</th>\n",
       "      <th>Heart_Rate</th>\n",
       "      <th>Five_Year_Risk_CHD</th>\n",
       "      <th>Predicted</th>\n",
       "    </tr>\n",
       "  </thead>\n",
       "  <tbody>\n",
       "    <tr>\n",
       "      <th>2404</th>\n",
       "      <td>1</td>\n",
       "      <td>51</td>\n",
       "      <td>1.0</td>\n",
       "      <td>1</td>\n",
       "      <td>15.0</td>\n",
       "      <td>0.0</td>\n",
       "      <td>0</td>\n",
       "      <td>0</td>\n",
       "      <td>0</td>\n",
       "      <td>220.0</td>\n",
       "      <td>125.0</td>\n",
       "      <td>82.0</td>\n",
       "      <td>24.10</td>\n",
       "      <td>60.0</td>\n",
       "      <td>1</td>\n",
       "      <td>0</td>\n",
       "    </tr>\n",
       "    <tr>\n",
       "      <th>3800</th>\n",
       "      <td>0</td>\n",
       "      <td>48</td>\n",
       "      <td>1.0</td>\n",
       "      <td>0</td>\n",
       "      <td>0.0</td>\n",
       "      <td>0.0</td>\n",
       "      <td>0</td>\n",
       "      <td>0</td>\n",
       "      <td>0</td>\n",
       "      <td>274.0</td>\n",
       "      <td>110.0</td>\n",
       "      <td>84.0</td>\n",
       "      <td>22.51</td>\n",
       "      <td>105.5</td>\n",
       "      <td>0</td>\n",
       "      <td>0</td>\n",
       "    </tr>\n",
       "    <tr>\n",
       "      <th>2619</th>\n",
       "      <td>0</td>\n",
       "      <td>38</td>\n",
       "      <td>2.0</td>\n",
       "      <td>1</td>\n",
       "      <td>20.0</td>\n",
       "      <td>0.0</td>\n",
       "      <td>0</td>\n",
       "      <td>0</td>\n",
       "      <td>0</td>\n",
       "      <td>195.0</td>\n",
       "      <td>116.0</td>\n",
       "      <td>72.0</td>\n",
       "      <td>24.45</td>\n",
       "      <td>75.0</td>\n",
       "      <td>0</td>\n",
       "      <td>0</td>\n",
       "    </tr>\n",
       "    <tr>\n",
       "      <th>2661</th>\n",
       "      <td>0</td>\n",
       "      <td>65</td>\n",
       "      <td>3.0</td>\n",
       "      <td>0</td>\n",
       "      <td>0.0</td>\n",
       "      <td>0.0</td>\n",
       "      <td>0</td>\n",
       "      <td>0</td>\n",
       "      <td>0</td>\n",
       "      <td>344.0</td>\n",
       "      <td>120.0</td>\n",
       "      <td>75.0</td>\n",
       "      <td>25.41</td>\n",
       "      <td>87.0</td>\n",
       "      <td>0</td>\n",
       "      <td>0</td>\n",
       "    </tr>\n",
       "    <tr>\n",
       "      <th>1920</th>\n",
       "      <td>1</td>\n",
       "      <td>51</td>\n",
       "      <td>1.0</td>\n",
       "      <td>1</td>\n",
       "      <td>20.0</td>\n",
       "      <td>0.0</td>\n",
       "      <td>0</td>\n",
       "      <td>0</td>\n",
       "      <td>0</td>\n",
       "      <td>256.0</td>\n",
       "      <td>130.0</td>\n",
       "      <td>75.0</td>\n",
       "      <td>28.76</td>\n",
       "      <td>60.0</td>\n",
       "      <td>0</td>\n",
       "      <td>0</td>\n",
       "    </tr>\n",
       "  </tbody>\n",
       "</table>\n",
       "</div>"
      ],
      "text/plain": [
       "      Gender  Age  Education  Current_Smoker  Cigs_Per_Day  BP_Meds  \\\n",
       "2404       1   51        1.0               1          15.0      0.0   \n",
       "3800       0   48        1.0               0           0.0      0.0   \n",
       "2619       0   38        2.0               1          20.0      0.0   \n",
       "2661       0   65        3.0               0           0.0      0.0   \n",
       "1920       1   51        1.0               1          20.0      0.0   \n",
       "\n",
       "      Pre_Stroke  Pre_Hyp  Diabetes  Cholesterol  Systolic_BP  Diastolic_BP  \\\n",
       "2404           0        0         0        220.0        125.0          82.0   \n",
       "3800           0        0         0        274.0        110.0          84.0   \n",
       "2619           0        0         0        195.0        116.0          72.0   \n",
       "2661           0        0         0        344.0        120.0          75.0   \n",
       "1920           0        0         0        256.0        130.0          75.0   \n",
       "\n",
       "        BMI  Heart_Rate  Five_Year_Risk_CHD  Predicted  \n",
       "2404  24.10        60.0                   1          0  \n",
       "3800  22.51       105.5                   0          0  \n",
       "2619  24.45        75.0                   0          0  \n",
       "2661  25.41        87.0                   0          0  \n",
       "1920  28.76        60.0                   0          0  "
      ]
     },
     "execution_count": 68,
     "metadata": {},
     "output_type": "execute_result"
    }
   ],
   "source": [
    "train['Predicted'] = output.predict(x_train)\n",
    "train.head()"
   ]
  },
  {
   "cell_type": "markdown",
   "id": "49ed5062",
   "metadata": {},
   "source": [
    "### Cheaking accuracy using confusion matrix."
   ]
  },
  {
   "cell_type": "code",
   "execution_count": 69,
   "id": "50f02ff5",
   "metadata": {},
   "outputs": [
    {
     "data": {
      "text/plain": [
       "array([[2867,  493],\n",
       "       [  15,   15]], dtype=int64)"
      ]
     },
     "execution_count": 69,
     "metadata": {},
     "output_type": "execute_result"
    }
   ],
   "source": [
    "from sklearn.metrics import confusion_matrix\n",
    "\n",
    "matrix = confusion_matrix(train['Predicted'], train['Five_Year_Risk_CHD'])\n",
    "matrix"
   ]
  },
  {
   "cell_type": "code",
   "execution_count": 70,
   "id": "1aa12478",
   "metadata": {},
   "outputs": [
    {
     "data": {
      "text/plain": [
       "85.01474926253687"
      ]
     },
     "execution_count": 70,
     "metadata": {},
     "output_type": "execute_result"
    }
   ],
   "source": [
    "Accuracy = ((2867+15)/(2867+493+15+15))*100\n",
    "Accuracy"
   ]
  },
  {
   "cell_type": "markdown",
   "id": "eb83f5e0",
   "metadata": {},
   "source": [
    "### Cheaking accuracy using classification report."
   ]
  },
  {
   "cell_type": "code",
   "execution_count": 71,
   "id": "311c8acb",
   "metadata": {
    "scrolled": true
   },
   "outputs": [
    {
     "name": "stdout",
     "output_type": "stream",
     "text": [
      "              precision    recall  f1-score   support\n",
      "\n",
      "           0       0.85      0.99      0.92      2882\n",
      "           1       0.50      0.03      0.06       508\n",
      "\n",
      "    accuracy                           0.85      3390\n",
      "   macro avg       0.68      0.51      0.49      3390\n",
      "weighted avg       0.80      0.85      0.79      3390\n",
      "\n"
     ]
    }
   ],
   "source": [
    "from sklearn.metrics import classification_report\n",
    "\n",
    "print(classification_report(train['Five_Year_Risk_CHD'],train['Predicted']))"
   ]
  },
  {
   "cell_type": "markdown",
   "id": "e9de5dbe",
   "metadata": {},
   "source": [
    "## From both confusiom matrix and classification report we can say that,\n",
    "## our model accuracy is 85.00%. (on training dataset)"
   ]
  },
  {
   "cell_type": "markdown",
   "id": "5339e11f",
   "metadata": {},
   "source": [
    "###  Now we check our model performence on test dataset."
   ]
  },
  {
   "cell_type": "code",
   "execution_count": 72,
   "id": "b9bb5da7",
   "metadata": {},
   "outputs": [
    {
     "data": {
      "text/html": [
       "<div>\n",
       "<style scoped>\n",
       "    .dataframe tbody tr th:only-of-type {\n",
       "        vertical-align: middle;\n",
       "    }\n",
       "\n",
       "    .dataframe tbody tr th {\n",
       "        vertical-align: top;\n",
       "    }\n",
       "\n",
       "    .dataframe thead th {\n",
       "        text-align: right;\n",
       "    }\n",
       "</style>\n",
       "<table border=\"1\" class=\"dataframe\">\n",
       "  <thead>\n",
       "    <tr style=\"text-align: right;\">\n",
       "      <th></th>\n",
       "      <th>Gender</th>\n",
       "      <th>Age</th>\n",
       "      <th>Education</th>\n",
       "      <th>Current_Smoker</th>\n",
       "      <th>Cigs_Per_Day</th>\n",
       "      <th>BP_Meds</th>\n",
       "      <th>Pre_Stroke</th>\n",
       "      <th>Pre_Hyp</th>\n",
       "      <th>Diabetes</th>\n",
       "      <th>Cholesterol</th>\n",
       "      <th>Systolic_BP</th>\n",
       "      <th>Diastolic_BP</th>\n",
       "      <th>BMI</th>\n",
       "      <th>Heart_Rate</th>\n",
       "      <th>Five_Year_Risk_CHD</th>\n",
       "    </tr>\n",
       "  </thead>\n",
       "  <tbody>\n",
       "    <tr>\n",
       "      <th>3207</th>\n",
       "      <td>1</td>\n",
       "      <td>52</td>\n",
       "      <td>3.0</td>\n",
       "      <td>1</td>\n",
       "      <td>20.0</td>\n",
       "      <td>0.0</td>\n",
       "      <td>0</td>\n",
       "      <td>0</td>\n",
       "      <td>0</td>\n",
       "      <td>205.0</td>\n",
       "      <td>136.5</td>\n",
       "      <td>92.5</td>\n",
       "      <td>31.05</td>\n",
       "      <td>70.0</td>\n",
       "      <td>1</td>\n",
       "    </tr>\n",
       "    <tr>\n",
       "      <th>263</th>\n",
       "      <td>1</td>\n",
       "      <td>64</td>\n",
       "      <td>1.0</td>\n",
       "      <td>0</td>\n",
       "      <td>0.0</td>\n",
       "      <td>0.0</td>\n",
       "      <td>0</td>\n",
       "      <td>1</td>\n",
       "      <td>0</td>\n",
       "      <td>217.0</td>\n",
       "      <td>147.0</td>\n",
       "      <td>87.0</td>\n",
       "      <td>29.73</td>\n",
       "      <td>77.0</td>\n",
       "      <td>0</td>\n",
       "    </tr>\n",
       "    <tr>\n",
       "      <th>3200</th>\n",
       "      <td>0</td>\n",
       "      <td>45</td>\n",
       "      <td>2.0</td>\n",
       "      <td>1</td>\n",
       "      <td>20.0</td>\n",
       "      <td>0.0</td>\n",
       "      <td>0</td>\n",
       "      <td>1</td>\n",
       "      <td>0</td>\n",
       "      <td>297.0</td>\n",
       "      <td>142.0</td>\n",
       "      <td>91.0</td>\n",
       "      <td>35.02</td>\n",
       "      <td>87.0</td>\n",
       "      <td>0</td>\n",
       "    </tr>\n",
       "    <tr>\n",
       "      <th>1295</th>\n",
       "      <td>0</td>\n",
       "      <td>45</td>\n",
       "      <td>2.0</td>\n",
       "      <td>1</td>\n",
       "      <td>15.0</td>\n",
       "      <td>0.0</td>\n",
       "      <td>0</td>\n",
       "      <td>0</td>\n",
       "      <td>0</td>\n",
       "      <td>222.0</td>\n",
       "      <td>95.0</td>\n",
       "      <td>58.0</td>\n",
       "      <td>21.68</td>\n",
       "      <td>75.0</td>\n",
       "      <td>0</td>\n",
       "    </tr>\n",
       "    <tr>\n",
       "      <th>3829</th>\n",
       "      <td>1</td>\n",
       "      <td>55</td>\n",
       "      <td>4.0</td>\n",
       "      <td>0</td>\n",
       "      <td>0.0</td>\n",
       "      <td>0.0</td>\n",
       "      <td>0</td>\n",
       "      <td>0</td>\n",
       "      <td>0</td>\n",
       "      <td>232.0</td>\n",
       "      <td>132.5</td>\n",
       "      <td>87.0</td>\n",
       "      <td>20.72</td>\n",
       "      <td>72.0</td>\n",
       "      <td>0</td>\n",
       "    </tr>\n",
       "  </tbody>\n",
       "</table>\n",
       "</div>"
      ],
      "text/plain": [
       "      Gender  Age  Education  Current_Smoker  Cigs_Per_Day  BP_Meds  \\\n",
       "3207       1   52        3.0               1          20.0      0.0   \n",
       "263        1   64        1.0               0           0.0      0.0   \n",
       "3200       0   45        2.0               1          20.0      0.0   \n",
       "1295       0   45        2.0               1          15.0      0.0   \n",
       "3829       1   55        4.0               0           0.0      0.0   \n",
       "\n",
       "      Pre_Stroke  Pre_Hyp  Diabetes  Cholesterol  Systolic_BP  Diastolic_BP  \\\n",
       "3207           0        0         0        205.0        136.5          92.5   \n",
       "263            0        1         0        217.0        147.0          87.0   \n",
       "3200           0        1         0        297.0        142.0          91.0   \n",
       "1295           0        0         0        222.0         95.0          58.0   \n",
       "3829           0        0         0        232.0        132.5          87.0   \n",
       "\n",
       "        BMI  Heart_Rate  Five_Year_Risk_CHD  \n",
       "3207  31.05        70.0                   1  \n",
       "263   29.73        77.0                   0  \n",
       "3200  35.02        87.0                   0  \n",
       "1295  21.68        75.0                   0  \n",
       "3829  20.72        72.0                   0  "
      ]
     },
     "execution_count": 72,
     "metadata": {},
     "output_type": "execute_result"
    }
   ],
   "source": [
    "test=pd.concat([x_test,y_test],axis=1)\n",
    "test.head()"
   ]
  },
  {
   "cell_type": "code",
   "execution_count": 73,
   "id": "6e285329",
   "metadata": {
    "scrolled": true
   },
   "outputs": [
    {
     "data": {
      "text/html": [
       "<div>\n",
       "<style scoped>\n",
       "    .dataframe tbody tr th:only-of-type {\n",
       "        vertical-align: middle;\n",
       "    }\n",
       "\n",
       "    .dataframe tbody tr th {\n",
       "        vertical-align: top;\n",
       "    }\n",
       "\n",
       "    .dataframe thead th {\n",
       "        text-align: right;\n",
       "    }\n",
       "</style>\n",
       "<table border=\"1\" class=\"dataframe\">\n",
       "  <thead>\n",
       "    <tr style=\"text-align: right;\">\n",
       "      <th></th>\n",
       "      <th>Gender</th>\n",
       "      <th>Age</th>\n",
       "      <th>Education</th>\n",
       "      <th>Current_Smoker</th>\n",
       "      <th>Cigs_Per_Day</th>\n",
       "      <th>BP_Meds</th>\n",
       "      <th>Pre_Stroke</th>\n",
       "      <th>Pre_Hyp</th>\n",
       "      <th>Diabetes</th>\n",
       "      <th>Cholesterol</th>\n",
       "      <th>Systolic_BP</th>\n",
       "      <th>Diastolic_BP</th>\n",
       "      <th>BMI</th>\n",
       "      <th>Heart_Rate</th>\n",
       "      <th>Five_Year_Risk_CHD</th>\n",
       "      <th>Predicted</th>\n",
       "    </tr>\n",
       "  </thead>\n",
       "  <tbody>\n",
       "    <tr>\n",
       "      <th>3207</th>\n",
       "      <td>1</td>\n",
       "      <td>52</td>\n",
       "      <td>3.0</td>\n",
       "      <td>1</td>\n",
       "      <td>20.0</td>\n",
       "      <td>0.0</td>\n",
       "      <td>0</td>\n",
       "      <td>0</td>\n",
       "      <td>0</td>\n",
       "      <td>205.0</td>\n",
       "      <td>136.5</td>\n",
       "      <td>92.5</td>\n",
       "      <td>31.05</td>\n",
       "      <td>70.0</td>\n",
       "      <td>1</td>\n",
       "      <td>0</td>\n",
       "    </tr>\n",
       "    <tr>\n",
       "      <th>263</th>\n",
       "      <td>1</td>\n",
       "      <td>64</td>\n",
       "      <td>1.0</td>\n",
       "      <td>0</td>\n",
       "      <td>0.0</td>\n",
       "      <td>0.0</td>\n",
       "      <td>0</td>\n",
       "      <td>1</td>\n",
       "      <td>0</td>\n",
       "      <td>217.0</td>\n",
       "      <td>147.0</td>\n",
       "      <td>87.0</td>\n",
       "      <td>29.73</td>\n",
       "      <td>77.0</td>\n",
       "      <td>0</td>\n",
       "      <td>0</td>\n",
       "    </tr>\n",
       "    <tr>\n",
       "      <th>3200</th>\n",
       "      <td>0</td>\n",
       "      <td>45</td>\n",
       "      <td>2.0</td>\n",
       "      <td>1</td>\n",
       "      <td>20.0</td>\n",
       "      <td>0.0</td>\n",
       "      <td>0</td>\n",
       "      <td>1</td>\n",
       "      <td>0</td>\n",
       "      <td>297.0</td>\n",
       "      <td>142.0</td>\n",
       "      <td>91.0</td>\n",
       "      <td>35.02</td>\n",
       "      <td>87.0</td>\n",
       "      <td>0</td>\n",
       "      <td>0</td>\n",
       "    </tr>\n",
       "    <tr>\n",
       "      <th>1295</th>\n",
       "      <td>0</td>\n",
       "      <td>45</td>\n",
       "      <td>2.0</td>\n",
       "      <td>1</td>\n",
       "      <td>15.0</td>\n",
       "      <td>0.0</td>\n",
       "      <td>0</td>\n",
       "      <td>0</td>\n",
       "      <td>0</td>\n",
       "      <td>222.0</td>\n",
       "      <td>95.0</td>\n",
       "      <td>58.0</td>\n",
       "      <td>21.68</td>\n",
       "      <td>75.0</td>\n",
       "      <td>0</td>\n",
       "      <td>0</td>\n",
       "    </tr>\n",
       "    <tr>\n",
       "      <th>3829</th>\n",
       "      <td>1</td>\n",
       "      <td>55</td>\n",
       "      <td>4.0</td>\n",
       "      <td>0</td>\n",
       "      <td>0.0</td>\n",
       "      <td>0.0</td>\n",
       "      <td>0</td>\n",
       "      <td>0</td>\n",
       "      <td>0</td>\n",
       "      <td>232.0</td>\n",
       "      <td>132.5</td>\n",
       "      <td>87.0</td>\n",
       "      <td>20.72</td>\n",
       "      <td>72.0</td>\n",
       "      <td>0</td>\n",
       "      <td>0</td>\n",
       "    </tr>\n",
       "  </tbody>\n",
       "</table>\n",
       "</div>"
      ],
      "text/plain": [
       "      Gender  Age  Education  Current_Smoker  Cigs_Per_Day  BP_Meds  \\\n",
       "3207       1   52        3.0               1          20.0      0.0   \n",
       "263        1   64        1.0               0           0.0      0.0   \n",
       "3200       0   45        2.0               1          20.0      0.0   \n",
       "1295       0   45        2.0               1          15.0      0.0   \n",
       "3829       1   55        4.0               0           0.0      0.0   \n",
       "\n",
       "      Pre_Stroke  Pre_Hyp  Diabetes  Cholesterol  Systolic_BP  Diastolic_BP  \\\n",
       "3207           0        0         0        205.0        136.5          92.5   \n",
       "263            0        1         0        217.0        147.0          87.0   \n",
       "3200           0        1         0        297.0        142.0          91.0   \n",
       "1295           0        0         0        222.0         95.0          58.0   \n",
       "3829           0        0         0        232.0        132.5          87.0   \n",
       "\n",
       "        BMI  Heart_Rate  Five_Year_Risk_CHD  Predicted  \n",
       "3207  31.05        70.0                   1          0  \n",
       "263   29.73        77.0                   0          0  \n",
       "3200  35.02        87.0                   0          0  \n",
       "1295  21.68        75.0                   0          0  \n",
       "3829  20.72        72.0                   0          0  "
      ]
     },
     "execution_count": 73,
     "metadata": {},
     "output_type": "execute_result"
    }
   ],
   "source": [
    "test['Predicted'] = output.predict(x_test)\n",
    "test.head()"
   ]
  },
  {
   "cell_type": "markdown",
   "id": "ea6685d1",
   "metadata": {},
   "source": [
    "### Cheaking accuracy using confusion matrix."
   ]
  },
  {
   "cell_type": "code",
   "execution_count": 74,
   "id": "930ad5f6",
   "metadata": {},
   "outputs": [
    {
     "data": {
      "text/plain": [
       "array([[712, 132],\n",
       "       [  0,   4]], dtype=int64)"
      ]
     },
     "execution_count": 74,
     "metadata": {},
     "output_type": "execute_result"
    }
   ],
   "source": [
    "from sklearn.metrics import confusion_matrix\n",
    "\n",
    "matrix = confusion_matrix(test['Predicted'], test['Five_Year_Risk_CHD'])\n",
    "matrix"
   ]
  },
  {
   "cell_type": "code",
   "execution_count": 75,
   "id": "a66cf00c",
   "metadata": {},
   "outputs": [
    {
     "data": {
      "text/plain": [
       "84.43396226415094"
      ]
     },
     "execution_count": 75,
     "metadata": {},
     "output_type": "execute_result"
    }
   ],
   "source": [
    "accuracy = ((712+4)/(712+132+4))*100\n",
    "accuracy"
   ]
  },
  {
   "cell_type": "markdown",
   "id": "189e9f82",
   "metadata": {},
   "source": [
    "### Cheaking accuracy using classification report."
   ]
  },
  {
   "cell_type": "code",
   "execution_count": 76,
   "id": "f5536d8c",
   "metadata": {},
   "outputs": [
    {
     "name": "stdout",
     "output_type": "stream",
     "text": [
      "              precision    recall  f1-score   support\n",
      "\n",
      "           0       0.84      1.00      0.92       712\n",
      "           1       1.00      0.03      0.06       136\n",
      "\n",
      "    accuracy                           0.84       848\n",
      "   macro avg       0.92      0.51      0.49       848\n",
      "weighted avg       0.87      0.84      0.78       848\n",
      "\n"
     ]
    }
   ],
   "source": [
    "from sklearn.metrics import classification_report\n",
    "\n",
    "print(classification_report(test['Five_Year_Risk_CHD'],test['Predicted']))"
   ]
  },
  {
   "cell_type": "markdown",
   "id": "b2bb447d",
   "metadata": {},
   "source": [
    "## From both confusiom matrix and classification report we can say that,\n",
    "## our model accuracy is 84.00%. (on testing dataset)"
   ]
  },
  {
   "cell_type": "code",
   "execution_count": null,
   "id": "bd55d983",
   "metadata": {},
   "outputs": [],
   "source": []
  }
 ],
 "metadata": {
  "kernelspec": {
   "display_name": "Python 3 (ipykernel)",
   "language": "python",
   "name": "python3"
  },
  "language_info": {
   "codemirror_mode": {
    "name": "ipython",
    "version": 3
   },
   "file_extension": ".py",
   "mimetype": "text/x-python",
   "name": "python",
   "nbconvert_exporter": "python",
   "pygments_lexer": "ipython3",
   "version": "3.9.7"
  }
 },
 "nbformat": 4,
 "nbformat_minor": 5
}
