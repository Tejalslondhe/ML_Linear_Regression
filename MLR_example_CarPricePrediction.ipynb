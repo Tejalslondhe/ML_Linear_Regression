{
 "cells": [
  {
   "cell_type": "code",
   "execution_count": 58,
   "id": "d9ad3bba",
   "metadata": {},
   "outputs": [],
   "source": [
    "import pandas as pd \n",
    "import numpy as np \n",
    "\n",
    "################# Machine Learning ################\n",
    "import statsmodels\n",
    "from statsmodels.stats.anova import anova_lm\n",
    "from statsmodels.stats.outliers_influence import variance_inflation_factor\n",
    "\n",
    "################# Data Visualization ################\n",
    "import seaborn as sns\n",
    "from matplotlib import pyplot as plt\n",
    "%matplotlib inline"
   ]
  },
  {
   "cell_type": "code",
   "execution_count": 59,
   "id": "b0874bcf",
   "metadata": {},
   "outputs": [],
   "source": [
    "data = pd.read_excel(r'Car Price Prediction.xlsx')"
   ]
  },
  {
   "cell_type": "code",
   "execution_count": 60,
   "id": "911126a8",
   "metadata": {},
   "outputs": [
    {
     "name": "stdout",
     "output_type": "stream",
     "text": [
      "<class 'pandas.core.frame.DataFrame'>\n",
      "RangeIndex: 156 entries, 0 to 155\n",
      "Data columns (total 10 columns):\n",
      " #   Column              Non-Null Count  Dtype  \n",
      "---  ------              --------------  -----  \n",
      " 0   Price in thousands  156 non-null    float64\n",
      " 1   Engine size         156 non-null    float64\n",
      " 2   Horsepower          156 non-null    int64  \n",
      " 3   Wheelbase           156 non-null    float64\n",
      " 4   Width               156 non-null    float64\n",
      " 5   Length              156 non-null    float64\n",
      " 6   Curb weight         156 non-null    float64\n",
      " 7   Fuel capacity       156 non-null    float64\n",
      " 8   Fuel efficiency     156 non-null    int64  \n",
      " 9   Resale              156 non-null    float64\n",
      "dtypes: float64(8), int64(2)\n",
      "memory usage: 12.3 KB\n"
     ]
    }
   ],
   "source": [
    "data.info()"
   ]
  },
  {
   "cell_type": "code",
   "execution_count": 61,
   "id": "b3ecbd58",
   "metadata": {},
   "outputs": [
    {
     "data": {
      "text/html": [
       "<div>\n",
       "<style scoped>\n",
       "    .dataframe tbody tr th:only-of-type {\n",
       "        vertical-align: middle;\n",
       "    }\n",
       "\n",
       "    .dataframe tbody tr th {\n",
       "        vertical-align: top;\n",
       "    }\n",
       "\n",
       "    .dataframe thead th {\n",
       "        text-align: right;\n",
       "    }\n",
       "</style>\n",
       "<table border=\"1\" class=\"dataframe\">\n",
       "  <thead>\n",
       "    <tr style=\"text-align: right;\">\n",
       "      <th></th>\n",
       "      <th>Price in thousands</th>\n",
       "      <th>Engine size</th>\n",
       "      <th>Horsepower</th>\n",
       "      <th>Wheelbase</th>\n",
       "      <th>Width</th>\n",
       "      <th>Length</th>\n",
       "      <th>Curb weight</th>\n",
       "      <th>Fuel capacity</th>\n",
       "      <th>Fuel efficiency</th>\n",
       "      <th>Resale</th>\n",
       "    </tr>\n",
       "  </thead>\n",
       "  <tbody>\n",
       "    <tr>\n",
       "      <th>count</th>\n",
       "      <td>156.000000</td>\n",
       "      <td>156.000000</td>\n",
       "      <td>156.000000</td>\n",
       "      <td>156.000000</td>\n",
       "      <td>156.000000</td>\n",
       "      <td>156.000000</td>\n",
       "      <td>156.000000</td>\n",
       "      <td>156.000000</td>\n",
       "      <td>156.000000</td>\n",
       "      <td>156.000000</td>\n",
       "    </tr>\n",
       "    <tr>\n",
       "      <th>mean</th>\n",
       "      <td>27.439532</td>\n",
       "      <td>3.060897</td>\n",
       "      <td>185.948718</td>\n",
       "      <td>107.487179</td>\n",
       "      <td>71.150000</td>\n",
       "      <td>187.343590</td>\n",
       "      <td>3.381949</td>\n",
       "      <td>17.951923</td>\n",
       "      <td>23.878205</td>\n",
       "      <td>18.060808</td>\n",
       "    </tr>\n",
       "    <tr>\n",
       "      <th>std</th>\n",
       "      <td>14.318249</td>\n",
       "      <td>1.044653</td>\n",
       "      <td>56.700321</td>\n",
       "      <td>7.641303</td>\n",
       "      <td>3.451872</td>\n",
       "      <td>13.431754</td>\n",
       "      <td>0.630372</td>\n",
       "      <td>3.887921</td>\n",
       "      <td>4.296049</td>\n",
       "      <td>10.076940</td>\n",
       "    </tr>\n",
       "    <tr>\n",
       "      <th>min</th>\n",
       "      <td>9.235000</td>\n",
       "      <td>1.000000</td>\n",
       "      <td>55.000000</td>\n",
       "      <td>92.600000</td>\n",
       "      <td>62.600000</td>\n",
       "      <td>149.400000</td>\n",
       "      <td>1.895000</td>\n",
       "      <td>10.300000</td>\n",
       "      <td>15.000000</td>\n",
       "      <td>5.160000</td>\n",
       "    </tr>\n",
       "    <tr>\n",
       "      <th>25%</th>\n",
       "      <td>18.081250</td>\n",
       "      <td>2.300000</td>\n",
       "      <td>149.500000</td>\n",
       "      <td>103.000000</td>\n",
       "      <td>68.400000</td>\n",
       "      <td>177.575000</td>\n",
       "      <td>2.973000</td>\n",
       "      <td>15.800000</td>\n",
       "      <td>21.000000</td>\n",
       "      <td>12.527500</td>\n",
       "    </tr>\n",
       "    <tr>\n",
       "      <th>50%</th>\n",
       "      <td>23.099500</td>\n",
       "      <td>3.000000</td>\n",
       "      <td>177.500000</td>\n",
       "      <td>107.000000</td>\n",
       "      <td>70.550000</td>\n",
       "      <td>187.900000</td>\n",
       "      <td>3.355000</td>\n",
       "      <td>17.200000</td>\n",
       "      <td>24.000000</td>\n",
       "      <td>17.617500</td>\n",
       "    </tr>\n",
       "    <tr>\n",
       "      <th>75%</th>\n",
       "      <td>32.253750</td>\n",
       "      <td>3.575000</td>\n",
       "      <td>215.000000</td>\n",
       "      <td>112.200000</td>\n",
       "      <td>73.425000</td>\n",
       "      <td>196.125000</td>\n",
       "      <td>3.821500</td>\n",
       "      <td>19.575000</td>\n",
       "      <td>26.000000</td>\n",
       "      <td>18.080750</td>\n",
       "    </tr>\n",
       "    <tr>\n",
       "      <th>max</th>\n",
       "      <td>85.500000</td>\n",
       "      <td>8.000000</td>\n",
       "      <td>450.000000</td>\n",
       "      <td>138.700000</td>\n",
       "      <td>79.900000</td>\n",
       "      <td>224.500000</td>\n",
       "      <td>5.572000</td>\n",
       "      <td>32.000000</td>\n",
       "      <td>45.000000</td>\n",
       "      <td>67.550000</td>\n",
       "    </tr>\n",
       "  </tbody>\n",
       "</table>\n",
       "</div>"
      ],
      "text/plain": [
       "       Price in thousands  Engine size  Horsepower   Wheelbase       Width  \\\n",
       "count          156.000000   156.000000  156.000000  156.000000  156.000000   \n",
       "mean            27.439532     3.060897  185.948718  107.487179   71.150000   \n",
       "std             14.318249     1.044653   56.700321    7.641303    3.451872   \n",
       "min              9.235000     1.000000   55.000000   92.600000   62.600000   \n",
       "25%             18.081250     2.300000  149.500000  103.000000   68.400000   \n",
       "50%             23.099500     3.000000  177.500000  107.000000   70.550000   \n",
       "75%             32.253750     3.575000  215.000000  112.200000   73.425000   \n",
       "max             85.500000     8.000000  450.000000  138.700000   79.900000   \n",
       "\n",
       "           Length  Curb weight  Fuel capacity  Fuel efficiency      Resale  \n",
       "count  156.000000   156.000000     156.000000       156.000000  156.000000  \n",
       "mean   187.343590     3.381949      17.951923        23.878205   18.060808  \n",
       "std     13.431754     0.630372       3.887921         4.296049   10.076940  \n",
       "min    149.400000     1.895000      10.300000        15.000000    5.160000  \n",
       "25%    177.575000     2.973000      15.800000        21.000000   12.527500  \n",
       "50%    187.900000     3.355000      17.200000        24.000000   17.617500  \n",
       "75%    196.125000     3.821500      19.575000        26.000000   18.080750  \n",
       "max    224.500000     5.572000      32.000000        45.000000   67.550000  "
      ]
     },
     "execution_count": 61,
     "metadata": {},
     "output_type": "execute_result"
    }
   ],
   "source": [
    "data.describe()"
   ]
  },
  {
   "cell_type": "code",
   "execution_count": 62,
   "id": "32e94f4c",
   "metadata": {},
   "outputs": [
    {
     "data": {
      "text/plain": [
       "<AxesSubplot:ylabel='Price in thousands'>"
      ]
     },
     "execution_count": 62,
     "metadata": {},
     "output_type": "execute_result"
    },
    {
     "data": {
      "image/png": "[encoded data removed]",
      "text/plain": [
       "<Figure size 432x288 with 1 Axes>"
      ]
     },
     "metadata": {
      "needs_background": "light"
     },
     "output_type": "display_data"
    }
   ],
   "source": [
    "sns.boxplot(y='Price in thousands',data=data)"
   ]
  },
  {
   "cell_type": "code",
   "execution_count": 63,
   "id": "1fb99354",
   "metadata": {},
   "outputs": [],
   "source": [
    "q1 = data['Price in thousands'].quantile(0.25)\n",
    "q3 = data['Price in thousands'].quantile(0.75)\n",
    "iqr = q3-q1\n",
    "ul = q3+1.5*iqr"
   ]
  },
  {
   "cell_type": "code",
   "execution_count": 64,
   "id": "4424791a",
   "metadata": {},
   "outputs": [
    {
     "data": {
      "text/plain": [
       "<AxesSubplot:ylabel='Price in thousands'>"
      ]
     },
     "execution_count": 64,
     "metadata": {},
     "output_type": "execute_result"
    },
    {
     "data": {
      "image/png": "[encoded data removed]",
      "text/plain": [
       "<Figure size 432x288 with 1 Axes>"
      ]
     },
     "metadata": {
      "needs_background": "light"
     },
     "output_type": "display_data"
    }
   ],
   "source": [
    "data['Price in thousands'].clip(upper=ul,inplace=True)\n",
    "sns.boxplot(y='Price in thousands',data=data)"
   ]
  },
  {
   "cell_type": "code",
   "execution_count": 65,
   "id": "c2554396",
   "metadata": {},
   "outputs": [
    {
     "data": {
      "text/plain": [
       "<AxesSubplot:ylabel='Engine size'>"
      ]
     },
     "execution_count": 65,
     "metadata": {},
     "output_type": "execute_result"
    },
    {
     "data": {
      "image/png": "[encoded data removed]",
      "text/plain": [
       "<Figure size 432x288 with 1 Axes>"
      ]
     },
     "metadata": {
      "needs_background": "light"
     },
     "output_type": "display_data"
    }
   ],
   "source": [
    "sns.boxplot(y='Engine size',data=data)"
   ]
  },
  {
   "cell_type": "code",
   "execution_count": 66,
   "id": "cb57c8b8",
   "metadata": {},
   "outputs": [],
   "source": [
    "q1 = data['Engine size'].quantile(0.25)\n",
    "q3 = data['Engine size'].quantile(0.75)\n",
    "iqr = q3-q1\n",
    "ul = q3+1.5*iqr"
   ]
  },
  {
   "cell_type": "code",
   "execution_count": 67,
   "id": "d91dbf9a",
   "metadata": {},
   "outputs": [
    {
     "data": {
      "text/plain": [
       "<AxesSubplot:ylabel='Engine size'>"
      ]
     },
     "execution_count": 67,
     "metadata": {},
     "output_type": "execute_result"
    },
    {
     "data": {
      "image/png": "[encoded data removed]",
      "text/plain": [
       "<Figure size 432x288 with 1 Axes>"
      ]
     },
     "metadata": {
      "needs_background": "light"
     },
     "output_type": "display_data"
    }
   ],
   "source": [
    "data['Engine size'].clip(upper=ul,inplace=True)\n",
    "sns.boxplot(y='Engine size',data=data)"
   ]
  },
  {
   "cell_type": "code",
   "execution_count": 68,
   "id": "7faf1c1c",
   "metadata": {},
   "outputs": [
    {
     "data": {
      "text/plain": [
       "<AxesSubplot:ylabel='Horsepower'>"
      ]
     },
     "execution_count": 68,
     "metadata": {},
     "output_type": "execute_result"
    },
    {
     "data": {
      "image/png": "[encoded data removed]",
      "text/plain": [
       "<Figure size 432x288 with 1 Axes>"
      ]
     },
     "metadata": {
      "needs_background": "light"
     },
     "output_type": "display_data"
    }
   ],
   "source": [
    "sns.boxplot(y='Horsepower',data=data)"
   ]
  },
  {
   "cell_type": "code",
   "execution_count": 69,
   "id": "d08df57a",
   "metadata": {},
   "outputs": [],
   "source": [
    "q1 = data['Horsepower'].quantile(0.25)\n",
    "q3 = data['Horsepower'].quantile(0.75)\n",
    "iqr = q3-q1\n",
    "ul = q3+1.5*iqr"
   ]
  },
  {
   "cell_type": "code",
   "execution_count": 70,
   "id": "3d08838f",
   "metadata": {},
   "outputs": [
    {
     "data": {
      "text/plain": [
       "<AxesSubplot:ylabel='Horsepower'>"
      ]
     },
     "execution_count": 70,
     "metadata": {},
     "output_type": "execute_result"
    },
    {
     "data": {
      "image/png": "[encoded data removed]",
      "text/plain": [
       "<Figure size 432x288 with 1 Axes>"
      ]
     },
     "metadata": {
      "needs_background": "light"
     },
     "output_type": "display_data"
    }
   ],
   "source": [
    "data['Horsepower'].clip(upper=ul,inplace=True)\n",
    "sns.boxplot(y='Horsepower',data=data)"
   ]
  },
  {
   "cell_type": "code",
   "execution_count": 71,
   "id": "6b50bf14",
   "metadata": {},
   "outputs": [
    {
     "data": {
      "text/plain": [
       "<AxesSubplot:ylabel='Wheelbase'>"
      ]
     },
     "execution_count": 71,
     "metadata": {},
     "output_type": "execute_result"
    },
    {
     "data": {
      "image/png": "[encoded data removed]",
      "text/plain": [
       "<Figure size 432x288 with 1 Axes>"
      ]
     },
     "metadata": {
      "needs_background": "light"
     },
     "output_type": "display_data"
    }
   ],
   "source": [
    "sns.boxplot(y='Wheelbase',data=data)"
   ]
  },
  {
   "cell_type": "code",
   "execution_count": 72,
   "id": "a3fab46a",
   "metadata": {},
   "outputs": [],
   "source": [
    "q1 = data['Wheelbase'].quantile(0.25)\n",
    "q3 = data['Wheelbase'].quantile(0.75)\n",
    "iqr = q3-q1\n",
    "ul = q3+1.5*iqr"
   ]
  },
  {
   "cell_type": "code",
   "execution_count": 73,
   "id": "d2902c4d",
   "metadata": {},
   "outputs": [
    {
     "data": {
      "text/plain": [
       "<AxesSubplot:ylabel='Wheelbase'>"
      ]
     },
     "execution_count": 73,
     "metadata": {},
     "output_type": "execute_result"
    },
    {
     "data": {
      "image/png": "[encoded data removed]",
      "text/plain": [
       "<Figure size 432x288 with 1 Axes>"
      ]
     },
     "metadata": {
      "needs_background": "light"
     },
     "output_type": "display_data"
    }
   ],
   "source": [
    "data['Wheelbase'].clip(upper=ul,inplace=True)\n",
    "sns.boxplot(y='Wheelbase',data=data)"
   ]
  },
  {
   "cell_type": "code",
   "execution_count": 74,
   "id": "bffa6854",
   "metadata": {},
   "outputs": [
    {
     "data": {
      "text/plain": [
       "<AxesSubplot:ylabel='Length'>"
      ]
     },
     "execution_count": 74,
     "metadata": {},
     "output_type": "execute_result"
    },
    {
     "data": {
      "image/png": "[encoded data removed]",
      "text/plain": [
       "<Figure size 432x288 with 1 Axes>"
      ]
     },
     "metadata": {
      "needs_background": "light"
     },
     "output_type": "display_data"
    }
   ],
   "source": [
    "sns.boxplot(y='Length',data=data)"
   ]
  },
  {
   "cell_type": "code",
   "execution_count": 75,
   "id": "f4096c9a",
   "metadata": {},
   "outputs": [],
   "source": [
    "q1 = data['Length'].quantile(0.25)\n",
    "q3 = data['Length'].quantile(0.75)\n",
    "iqr = q3-q1\n",
    "ul = q3+1.5*iqr\n",
    "ll = q1-1.5*iqr"
   ]
  },
  {
   "cell_type": "code",
   "execution_count": 76,
   "id": "70c35b52",
   "metadata": {},
   "outputs": [
    {
     "data": {
      "text/plain": [
       "<AxesSubplot:ylabel='Length'>"
      ]
     },
     "execution_count": 76,
     "metadata": {},
     "output_type": "execute_result"
    },
    {
     "data": {
      "image/png": "[encoded data removed]",
      "text/plain": [
       "<Figure size 432x288 with 1 Axes>"
      ]
     },
     "metadata": {
      "needs_background": "light"
     },
     "output_type": "display_data"
    }
   ],
   "source": [
    "data['Length'].clip(upper=ul,lower=ll,inplace=True)\n",
    "sns.boxplot(y='Length',data=data)"
   ]
  },
  {
   "cell_type": "code",
   "execution_count": 77,
   "id": "9549fd21",
   "metadata": {},
   "outputs": [
    {
     "data": {
      "text/plain": [
       "<AxesSubplot:ylabel='Curb weight'>"
      ]
     },
     "execution_count": 77,
     "metadata": {},
     "output_type": "execute_result"
    },
    {
     "data": {
      "image/png": "[encoded data removed]",
      "text/plain": [
       "<Figure size 432x288 with 1 Axes>"
      ]
     },
     "metadata": {
      "needs_background": "light"
     },
     "output_type": "display_data"
    }
   ],
   "source": [
    "sns.boxplot(y='Curb weight',data=data)"
   ]
  },
  {
   "cell_type": "code",
   "execution_count": 78,
   "id": "d5471317",
   "metadata": {},
   "outputs": [],
   "source": [
    "q1 = data['Curb weight'].quantile(0.25)\n",
    "q3 = data['Curb weight'].quantile(0.75)\n",
    "iqr = q3-q1\n",
    "ul = q3+1.5*iqr"
   ]
  },
  {
   "cell_type": "code",
   "execution_count": 79,
   "id": "cd712751",
   "metadata": {},
   "outputs": [
    {
     "data": {
      "text/plain": [
       "<AxesSubplot:ylabel='Curb weight'>"
      ]
     },
     "execution_count": 79,
     "metadata": {},
     "output_type": "execute_result"
    },
    {
     "data": {
      "image/png": "[encoded data removed]",
      "text/plain": [
       "<Figure size 432x288 with 1 Axes>"
      ]
     },
     "metadata": {
      "needs_background": "light"
     },
     "output_type": "display_data"
    }
   ],
   "source": [
    "data['Curb weight'].clip(upper=ul,inplace=True)\n",
    "sns.boxplot(y='Curb weight',data=data)"
   ]
  },
  {
   "cell_type": "code",
   "execution_count": 80,
   "id": "88f94e28",
   "metadata": {},
   "outputs": [
    {
     "data": {
      "text/plain": [
       "<AxesSubplot:ylabel='Fuel capacity'>"
      ]
     },
     "execution_count": 80,
     "metadata": {},
     "output_type": "execute_result"
    },
    {
     "data": {
      "image/png": "[encoded data removed]",
      "text/plain": [
       "<Figure size 432x288 with 1 Axes>"
      ]
     },
     "metadata": {
      "needs_background": "light"
     },
     "output_type": "display_data"
    }
   ],
   "source": [
    "sns.boxplot(y='Fuel capacity',data=data)"
   ]
  },
  {
   "cell_type": "code",
   "execution_count": 81,
   "id": "f7c7f8fe",
   "metadata": {},
   "outputs": [],
   "source": [
    "q1 = data['Fuel capacity'].quantile(0.25)\n",
    "q3 = data['Fuel capacity'].quantile(0.75)\n",
    "iqr = q3-q1\n",
    "ul = q3+1.5*iqr"
   ]
  },
  {
   "cell_type": "code",
   "execution_count": 82,
   "id": "c536edd1",
   "metadata": {},
   "outputs": [
    {
     "data": {
      "text/plain": [
       "<AxesSubplot:ylabel='Fuel capacity'>"
      ]
     },
     "execution_count": 82,
     "metadata": {},
     "output_type": "execute_result"
    },
    {
     "data": {
      "image/png": "[encoded data removed]",
      "text/plain": [
       "<Figure size 432x288 with 1 Axes>"
      ]
     },
     "metadata": {
      "needs_background": "light"
     },
     "output_type": "display_data"
    }
   ],
   "source": [
    "data['Fuel capacity'].clip(upper=ul,inplace=True)\n",
    "sns.boxplot(y='Fuel capacity',data=data)"
   ]
  },
  {
   "cell_type": "code",
   "execution_count": 83,
   "id": "17c030f3",
   "metadata": {},
   "outputs": [
    {
     "data": {
      "text/plain": [
       "<AxesSubplot:ylabel='Fuel efficiency'>"
      ]
     },
     "execution_count": 83,
     "metadata": {},
     "output_type": "execute_result"
    },
    {
     "data": {
      "image/png": "[encoded data removed]",
      "text/plain": [
       "<Figure size 432x288 with 1 Axes>"
      ]
     },
     "metadata": {
      "needs_background": "light"
     },
     "output_type": "display_data"
    }
   ],
   "source": [
    "sns.boxplot(y='Fuel efficiency',data=data)"
   ]
  },
  {
   "cell_type": "code",
   "execution_count": 84,
   "id": "c2882403",
   "metadata": {},
   "outputs": [],
   "source": [
    "q1 = data['Fuel efficiency'].quantile(0.25)\n",
    "q3 = data['Fuel efficiency'].quantile(0.75)\n",
    "iqr = q3-q1\n",
    "ul = q3+1.5*iqr"
   ]
  },
  {
   "cell_type": "code",
   "execution_count": 85,
   "id": "629bcba9",
   "metadata": {},
   "outputs": [
    {
     "data": {
      "text/plain": [
       "<AxesSubplot:ylabel='Fuel efficiency'>"
      ]
     },
     "execution_count": 85,
     "metadata": {},
     "output_type": "execute_result"
    },
    {
     "data": {
      "image/png": "[encoded data removed]",
      "text/plain": [
       "<Figure size 432x288 with 1 Axes>"
      ]
     },
     "metadata": {
      "needs_background": "light"
     },
     "output_type": "display_data"
    }
   ],
   "source": [
    "data['Fuel efficiency'].clip(upper=ul,inplace=True)\n",
    "sns.boxplot(y='Fuel efficiency',data=data)"
   ]
  },
  {
   "cell_type": "code",
   "execution_count": 86,
   "id": "f79e2a23",
   "metadata": {},
   "outputs": [
    {
     "data": {
      "text/plain": [
       "<AxesSubplot:ylabel='Resale'>"
      ]
     },
     "execution_count": 86,
     "metadata": {},
     "output_type": "execute_result"
    },
    {
     "data": {
      "image/png": "[encoded data removed]",
      "text/plain": [
       "<Figure size 432x288 with 1 Axes>"
      ]
     },
     "metadata": {
      "needs_background": "light"
     },
     "output_type": "display_data"
    }
   ],
   "source": [
    "sns.boxplot(y='Resale',data=data)"
   ]
  },
  {
   "cell_type": "code",
   "execution_count": 87,
   "id": "9db8b97c",
   "metadata": {},
   "outputs": [],
   "source": [
    "q1 = data['Resale'].quantile(0.25)\n",
    "q3 = data['Resale'].quantile(0.75)\n",
    "iqr = q3-q1\n",
    "ul = q3+1.5*iqr"
   ]
  },
  {
   "cell_type": "code",
   "execution_count": 88,
   "id": "44a275ad",
   "metadata": {},
   "outputs": [
    {
     "data": {
      "text/plain": [
       "<AxesSubplot:ylabel='Resale'>"
      ]
     },
     "execution_count": 88,
     "metadata": {},
     "output_type": "execute_result"
    },
    {
     "data": {
      "image/png": "[encoded data removed]",
      "text/plain": [
       "<Figure size 432x288 with 1 Axes>"
      ]
     },
     "metadata": {
      "needs_background": "light"
     },
     "output_type": "display_data"
    }
   ],
   "source": [
    "data['Resale'].clip(upper=ul,inplace=True)\n",
    "sns.boxplot(y='Resale',data=data)"
   ]
  },
  {
   "cell_type": "code",
   "execution_count": 89,
   "id": "36e466b5",
   "metadata": {},
   "outputs": [
    {
     "data": {
      "text/plain": [
       "Price in thousands    0\n",
       "Engine size           0\n",
       "Horsepower            0\n",
       "Wheelbase             0\n",
       "Width                 0\n",
       "Length                0\n",
       "Curb weight           0\n",
       "Fuel capacity         0\n",
       "Fuel efficiency       0\n",
       "Resale                0\n",
       "dtype: int64"
      ]
     },
     "execution_count": 89,
     "metadata": {},
     "output_type": "execute_result"
    }
   ],
   "source": [
    "data.isna().sum()"
   ]
  },
  {
   "cell_type": "code",
   "execution_count": 90,
   "id": "983f7ea9",
   "metadata": {},
   "outputs": [],
   "source": [
    "x = data.drop('Resale',axis=1)\n",
    "y = data[['Resale']]\n",
    "\n",
    "\n",
    "from sklearn.model_selection import train_test_split\n",
    "x_train, x_test, y_train, y_test = train_test_split(x,y,train_size=0.7,random_state=125)"
   ]
  },
  {
   "cell_type": "code",
   "execution_count": 97,
   "id": "4bce8977",
   "metadata": {},
   "outputs": [],
   "source": [
    "df_train = pd.concat([y_train, x_train], axis=1)"
   ]
  },
  {
   "cell_type": "code",
   "execution_count": 98,
   "id": "181a27fc",
   "metadata": {},
   "outputs": [
    {
     "data": {
      "text/html": [
       "<div>\n",
       "<style scoped>\n",
       "    .dataframe tbody tr th:only-of-type {\n",
       "        vertical-align: middle;\n",
       "    }\n",
       "\n",
       "    .dataframe tbody tr th {\n",
       "        vertical-align: top;\n",
       "    }\n",
       "\n",
       "    .dataframe thead th {\n",
       "        text-align: right;\n",
       "    }\n",
       "</style>\n",
       "<table border=\"1\" class=\"dataframe\">\n",
       "  <thead>\n",
       "    <tr style=\"text-align: right;\">\n",
       "      <th></th>\n",
       "      <th>Resale</th>\n",
       "      <th>Price in thousands</th>\n",
       "      <th>Engine size</th>\n",
       "      <th>Horsepower</th>\n",
       "      <th>Wheelbase</th>\n",
       "      <th>Width</th>\n",
       "      <th>Length</th>\n",
       "      <th>Curb weight</th>\n",
       "      <th>Fuel capacity</th>\n",
       "      <th>Fuel efficiency</th>\n",
       "    </tr>\n",
       "  </thead>\n",
       "  <tbody>\n",
       "    <tr>\n",
       "      <th>Resale</th>\n",
       "      <td>1.000000</td>\n",
       "      <td>0.773912</td>\n",
       "      <td>0.515844</td>\n",
       "      <td>0.663290</td>\n",
       "      <td>0.209283</td>\n",
       "      <td>0.274733</td>\n",
       "      <td>0.192454</td>\n",
       "      <td>0.542371</td>\n",
       "      <td>0.483918</td>\n",
       "      <td>-0.461225</td>\n",
       "    </tr>\n",
       "    <tr>\n",
       "      <th>Price in thousands</th>\n",
       "      <td>0.773912</td>\n",
       "      <td>1.000000</td>\n",
       "      <td>0.712658</td>\n",
       "      <td>0.868711</td>\n",
       "      <td>0.353303</td>\n",
       "      <td>0.501018</td>\n",
       "      <td>0.291019</td>\n",
       "      <td>0.694110</td>\n",
       "      <td>0.596919</td>\n",
       "      <td>-0.585144</td>\n",
       "    </tr>\n",
       "    <tr>\n",
       "      <th>Engine size</th>\n",
       "      <td>0.515844</td>\n",
       "      <td>0.712658</td>\n",
       "      <td>1.000000</td>\n",
       "      <td>0.847206</td>\n",
       "      <td>0.515970</td>\n",
       "      <td>0.673469</td>\n",
       "      <td>0.537245</td>\n",
       "      <td>0.801059</td>\n",
       "      <td>0.727557</td>\n",
       "      <td>-0.739673</td>\n",
       "    </tr>\n",
       "    <tr>\n",
       "      <th>Horsepower</th>\n",
       "      <td>0.663290</td>\n",
       "      <td>0.868711</td>\n",
       "      <td>0.847206</td>\n",
       "      <td>1.000000</td>\n",
       "      <td>0.446178</td>\n",
       "      <td>0.597301</td>\n",
       "      <td>0.470173</td>\n",
       "      <td>0.691809</td>\n",
       "      <td>0.619428</td>\n",
       "      <td>-0.614494</td>\n",
       "    </tr>\n",
       "    <tr>\n",
       "      <th>Wheelbase</th>\n",
       "      <td>0.209283</td>\n",
       "      <td>0.353303</td>\n",
       "      <td>0.515970</td>\n",
       "      <td>0.446178</td>\n",
       "      <td>1.000000</td>\n",
       "      <td>0.649856</td>\n",
       "      <td>0.805880</td>\n",
       "      <td>0.674487</td>\n",
       "      <td>0.664054</td>\n",
       "      <td>-0.481885</td>\n",
       "    </tr>\n",
       "    <tr>\n",
       "      <th>Width</th>\n",
       "      <td>0.274733</td>\n",
       "      <td>0.501018</td>\n",
       "      <td>0.673469</td>\n",
       "      <td>0.597301</td>\n",
       "      <td>0.649856</td>\n",
       "      <td>1.000000</td>\n",
       "      <td>0.645328</td>\n",
       "      <td>0.677139</td>\n",
       "      <td>0.567085</td>\n",
       "      <td>-0.499750</td>\n",
       "    </tr>\n",
       "    <tr>\n",
       "      <th>Length</th>\n",
       "      <td>0.192454</td>\n",
       "      <td>0.291019</td>\n",
       "      <td>0.537245</td>\n",
       "      <td>0.470173</td>\n",
       "      <td>0.805880</td>\n",
       "      <td>0.645328</td>\n",
       "      <td>1.000000</td>\n",
       "      <td>0.598286</td>\n",
       "      <td>0.542459</td>\n",
       "      <td>-0.339309</td>\n",
       "    </tr>\n",
       "    <tr>\n",
       "      <th>Curb weight</th>\n",
       "      <td>0.542371</td>\n",
       "      <td>0.694110</td>\n",
       "      <td>0.801059</td>\n",
       "      <td>0.691809</td>\n",
       "      <td>0.674487</td>\n",
       "      <td>0.677139</td>\n",
       "      <td>0.598286</td>\n",
       "      <td>1.000000</td>\n",
       "      <td>0.875298</td>\n",
       "      <td>-0.804097</td>\n",
       "    </tr>\n",
       "    <tr>\n",
       "      <th>Fuel capacity</th>\n",
       "      <td>0.483918</td>\n",
       "      <td>0.596919</td>\n",
       "      <td>0.727557</td>\n",
       "      <td>0.619428</td>\n",
       "      <td>0.664054</td>\n",
       "      <td>0.567085</td>\n",
       "      <td>0.542459</td>\n",
       "      <td>0.875298</td>\n",
       "      <td>1.000000</td>\n",
       "      <td>-0.793812</td>\n",
       "    </tr>\n",
       "    <tr>\n",
       "      <th>Fuel efficiency</th>\n",
       "      <td>-0.461225</td>\n",
       "      <td>-0.585144</td>\n",
       "      <td>-0.739673</td>\n",
       "      <td>-0.614494</td>\n",
       "      <td>-0.481885</td>\n",
       "      <td>-0.499750</td>\n",
       "      <td>-0.339309</td>\n",
       "      <td>-0.804097</td>\n",
       "      <td>-0.793812</td>\n",
       "      <td>1.000000</td>\n",
       "    </tr>\n",
       "  </tbody>\n",
       "</table>\n",
       "</div>"
      ],
      "text/plain": [
       "                      Resale  Price in thousands  Engine size  Horsepower  \\\n",
       "Resale              1.000000            0.773912     0.515844    0.663290   \n",
       "Price in thousands  0.773912            1.000000     0.712658    0.868711   \n",
       "Engine size         0.515844            0.712658     1.000000    0.847206   \n",
       "Horsepower          0.663290            0.868711     0.847206    1.000000   \n",
       "Wheelbase           0.209283            0.353303     0.515970    0.446178   \n",
       "Width               0.274733            0.501018     0.673469    0.597301   \n",
       "Length              0.192454            0.291019     0.537245    0.470173   \n",
       "Curb weight         0.542371            0.694110     0.801059    0.691809   \n",
       "Fuel capacity       0.483918            0.596919     0.727557    0.619428   \n",
       "Fuel efficiency    -0.461225           -0.585144    -0.739673   -0.614494   \n",
       "\n",
       "                    Wheelbase     Width    Length  Curb weight  Fuel capacity  \\\n",
       "Resale               0.209283  0.274733  0.192454     0.542371       0.483918   \n",
       "Price in thousands   0.353303  0.501018  0.291019     0.694110       0.596919   \n",
       "Engine size          0.515970  0.673469  0.537245     0.801059       0.727557   \n",
       "Horsepower           0.446178  0.597301  0.470173     0.691809       0.619428   \n",
       "Wheelbase            1.000000  0.649856  0.805880     0.674487       0.664054   \n",
       "Width                0.649856  1.000000  0.645328     0.677139       0.567085   \n",
       "Length               0.805880  0.645328  1.000000     0.598286       0.542459   \n",
       "Curb weight          0.674487  0.677139  0.598286     1.000000       0.875298   \n",
       "Fuel capacity        0.664054  0.567085  0.542459     0.875298       1.000000   \n",
       "Fuel efficiency     -0.481885 -0.499750 -0.339309    -0.804097      -0.793812   \n",
       "\n",
       "                    Fuel efficiency  \n",
       "Resale                    -0.461225  \n",
       "Price in thousands        -0.585144  \n",
       "Engine size               -0.739673  \n",
       "Horsepower                -0.614494  \n",
       "Wheelbase                 -0.481885  \n",
       "Width                     -0.499750  \n",
       "Length                    -0.339309  \n",
       "Curb weight               -0.804097  \n",
       "Fuel capacity             -0.793812  \n",
       "Fuel efficiency            1.000000  "
      ]
     },
     "execution_count": 98,
     "metadata": {},
     "output_type": "execute_result"
    }
   ],
   "source": [
    "df_train.corr()"
   ]
  },
  {
   "cell_type": "code",
   "execution_count": 100,
   "id": "f4e7e4cf",
   "metadata": {},
   "outputs": [
    {
     "data": {
      "text/plain": [
       "<AxesSubplot:>"
      ]
     },
     "execution_count": 100,
     "metadata": {},
     "output_type": "execute_result"
    },
    {
     "data": {
      "image/png": "[encoded data removed]",
      "text/plain": [
       "<Figure size 432x288 with 2 Axes>"
      ]
     },
     "metadata": {
      "needs_background": "light"
     },
     "output_type": "display_data"
    }
   ],
   "source": [
    "sns.heatmap(df_train.corr(),annot = True)"
   ]
  },
  {
   "cell_type": "code",
   "execution_count": 104,
   "id": "2703dc09",
   "metadata": {},
   "outputs": [
    {
     "data": {
      "text/plain": [
       "<AxesSubplot:xlabel='Price in thousands', ylabel='Resale'>"
      ]
     },
     "execution_count": 104,
     "metadata": {},
     "output_type": "execute_result"
    },
    {
     "data": {
      "image/png": "[encoded data removed]",
      "text/plain": [
       "<Figure size 432x288 with 1 Axes>"
      ]
     },
     "metadata": {
      "needs_background": "light"
     },
     "output_type": "display_data"
    }
   ],
   "source": [
    "sns.scatterplot(x='Price in thousands',y='Resale',data=df_train)"
   ]
  },
  {
   "cell_type": "code",
   "execution_count": 107,
   "id": "839ccf8a",
   "metadata": {},
   "outputs": [
    {
     "data": {
      "text/plain": [
       "Price in thousands      39.682617\n",
       "Engine size             65.166561\n",
       "Horsepower             120.648624\n",
       "Wheelbase             1074.645462\n",
       "Width                  712.708892\n",
       "Length                 820.660025\n",
       "Curb weight            273.700313\n",
       "Fuel capacity          146.952087\n",
       "Fuel efficiency        112.620811\n",
       "dtype: float64"
      ]
     },
     "execution_count": 107,
     "metadata": {},
     "output_type": "execute_result"
    }
   ],
   "source": [
    "X1 = df_train.drop(['Resale'],axis=1)\n",
    "\n",
    "series_before = pd.Series([variance_inflation_factor(X1.values, i) \n",
    "                           for i in range(X1.shape[1])],  # i=0,1,2\n",
    "                          index=X1.columns)  # column name\n",
    "series_before"
   ]
  },
  {
   "cell_type": "code",
   "execution_count": null,
   "id": "99127a89",
   "metadata": {},
   "outputs": [],
   "source": []
  },
  {
   "cell_type": "code",
   "execution_count": null,
   "id": "467e68b3",
   "metadata": {},
   "outputs": [],
   "source": []
  }
 ],
 "metadata": {
  "kernelspec": {
   "display_name": "Python 3 (ipykernel)",
   "language": "python",
   "name": "python3"
  },
  "language_info": {
   "codemirror_mode": {
    "name": "ipython",
    "version": 3
   },
   "file_extension": ".py",
   "mimetype": "text/x-python",
   "name": "python",
   "nbconvert_exporter": "python",
   "pygments_lexer": "ipython3",
   "version": "3.9.7"
  }
 },
 "nbformat": 4,
 "nbformat_minor": 5
}
